{
 "cells": [
  {
   "cell_type": "markdown",
   "metadata": {},
   "source": [
    "**Implementation of a Survival Analysis in R**\n",
    "\n",
    "Survavial analysis refers to set of methods for analysing data where the response variable is *time until the occurrence of an event of interest*(e.g. death,occurrence of disease etc.\n",
    "\n",
    "Packages used:survival,survminer,dplyr(to install packages use install.packages function)\n",
    "\n",
    "Dataset:ovarian{survival}\n"
   ]
  },
  {
   "cell_type": "code",
   "execution_count": 1,
   "metadata": {},
   "outputs": [
    {
     "name": "stderr",
     "output_type": "stream",
     "text": [
      "Loading required package: ggplot2\n",
      "Loading required package: ggpubr\n",
      "Loading required package: magrittr\n",
      "\n",
      "Attaching package: 'dplyr'\n",
      "\n",
      "The following objects are masked from 'package:stats':\n",
      "\n",
      "    filter, lag\n",
      "\n",
      "The following objects are masked from 'package:base':\n",
      "\n",
      "    intersect, setdiff, setequal, union\n",
      "\n"
     ]
    }
   ],
   "source": [
    "#loading necessary packages\n",
    "library(\"survival\")\n",
    "library(\"survminer\")\n",
    "library(\"dplyr\")\n",
    "library(\"ggplot2\")\n",
    "library(\"ggpubr\")\n",
    "library(\"magrittr\")"
   ]
  },
  {
   "cell_type": "code",
   "execution_count": 3,
   "metadata": {},
   "outputs": [
    {
     "data": {
      "text/html": [
       "<table>\n",
       "<thead><tr><th scope=col>futime</th><th scope=col>fustat</th><th scope=col>age</th><th scope=col>resid.ds</th><th scope=col>rx</th><th scope=col>ecog.ps</th></tr></thead>\n",
       "<tbody>\n",
       "\t<tr><td>  59   </td><td>1      </td><td>72.3315</td><td>2      </td><td>1      </td><td>1      </td></tr>\n",
       "\t<tr><td> 115   </td><td>1      </td><td>74.4932</td><td>2      </td><td>1      </td><td>1      </td></tr>\n",
       "\t<tr><td> 156   </td><td>1      </td><td>66.4658</td><td>2      </td><td>1      </td><td>2      </td></tr>\n",
       "\t<tr><td> 421   </td><td>0      </td><td>53.3644</td><td>2      </td><td>2      </td><td>1      </td></tr>\n",
       "\t<tr><td> 431   </td><td>1      </td><td>50.3397</td><td>2      </td><td>1      </td><td>1      </td></tr>\n",
       "\t<tr><td> 448   </td><td>0      </td><td>56.4301</td><td>1      </td><td>1      </td><td>2      </td></tr>\n",
       "\t<tr><td> 464   </td><td>1      </td><td>56.9370</td><td>2      </td><td>2      </td><td>2      </td></tr>\n",
       "\t<tr><td> 475   </td><td>1      </td><td>59.8548</td><td>2      </td><td>2      </td><td>2      </td></tr>\n",
       "\t<tr><td> 477   </td><td>0      </td><td>64.1753</td><td>2      </td><td>1      </td><td>1      </td></tr>\n",
       "\t<tr><td> 563   </td><td>1      </td><td>55.1781</td><td>1      </td><td>2      </td><td>2      </td></tr>\n",
       "\t<tr><td> 638   </td><td>1      </td><td>56.7562</td><td>1      </td><td>1      </td><td>2      </td></tr>\n",
       "\t<tr><td> 744   </td><td>0      </td><td>50.1096</td><td>1      </td><td>2      </td><td>1      </td></tr>\n",
       "\t<tr><td> 769   </td><td>0      </td><td>59.6301</td><td>2      </td><td>2      </td><td>2      </td></tr>\n",
       "\t<tr><td> 770   </td><td>0      </td><td>57.0521</td><td>2      </td><td>2      </td><td>1      </td></tr>\n",
       "\t<tr><td> 803   </td><td>0      </td><td>39.2712</td><td>1      </td><td>1      </td><td>1      </td></tr>\n",
       "\t<tr><td> 855   </td><td>0      </td><td>43.1233</td><td>1      </td><td>1      </td><td>2      </td></tr>\n",
       "\t<tr><td>1040   </td><td>0      </td><td>38.8932</td><td>2      </td><td>1      </td><td>2      </td></tr>\n",
       "\t<tr><td>1106   </td><td>0      </td><td>44.6000</td><td>1      </td><td>1      </td><td>1      </td></tr>\n",
       "\t<tr><td>1129   </td><td>0      </td><td>53.9068</td><td>1      </td><td>2      </td><td>1      </td></tr>\n",
       "\t<tr><td>1206   </td><td>0      </td><td>44.2055</td><td>2      </td><td>2      </td><td>1      </td></tr>\n",
       "\t<tr><td>1227   </td><td>0      </td><td>59.5890</td><td>1      </td><td>2      </td><td>2      </td></tr>\n",
       "\t<tr><td> 268   </td><td>1      </td><td>74.5041</td><td>2      </td><td>1      </td><td>2      </td></tr>\n",
       "\t<tr><td> 329   </td><td>1      </td><td>43.1370</td><td>2      </td><td>1      </td><td>1      </td></tr>\n",
       "\t<tr><td> 353   </td><td>1      </td><td>63.2192</td><td>1      </td><td>2      </td><td>2      </td></tr>\n",
       "\t<tr><td> 365   </td><td>1      </td><td>64.4247</td><td>2      </td><td>2      </td><td>1      </td></tr>\n",
       "\t<tr><td> 377   </td><td>0      </td><td>58.3096</td><td>1      </td><td>2      </td><td>1      </td></tr>\n",
       "</tbody>\n",
       "</table>\n"
      ],
      "text/latex": [
       "\\begin{tabular}{r|llllll}\n",
       " futime & fustat & age & resid.ds & rx & ecog.ps\\\\\n",
       "\\hline\n",
       "\t   59    & 1       & 72.3315 & 2       & 1       & 1      \\\\\n",
       "\t  115    & 1       & 74.4932 & 2       & 1       & 1      \\\\\n",
       "\t  156    & 1       & 66.4658 & 2       & 1       & 2      \\\\\n",
       "\t  421    & 0       & 53.3644 & 2       & 2       & 1      \\\\\n",
       "\t  431    & 1       & 50.3397 & 2       & 1       & 1      \\\\\n",
       "\t  448    & 0       & 56.4301 & 1       & 1       & 2      \\\\\n",
       "\t  464    & 1       & 56.9370 & 2       & 2       & 2      \\\\\n",
       "\t  475    & 1       & 59.8548 & 2       & 2       & 2      \\\\\n",
       "\t  477    & 0       & 64.1753 & 2       & 1       & 1      \\\\\n",
       "\t  563    & 1       & 55.1781 & 1       & 2       & 2      \\\\\n",
       "\t  638    & 1       & 56.7562 & 1       & 1       & 2      \\\\\n",
       "\t  744    & 0       & 50.1096 & 1       & 2       & 1      \\\\\n",
       "\t  769    & 0       & 59.6301 & 2       & 2       & 2      \\\\\n",
       "\t  770    & 0       & 57.0521 & 2       & 2       & 1      \\\\\n",
       "\t  803    & 0       & 39.2712 & 1       & 1       & 1      \\\\\n",
       "\t  855    & 0       & 43.1233 & 1       & 1       & 2      \\\\\n",
       "\t 1040    & 0       & 38.8932 & 2       & 1       & 2      \\\\\n",
       "\t 1106    & 0       & 44.6000 & 1       & 1       & 1      \\\\\n",
       "\t 1129    & 0       & 53.9068 & 1       & 2       & 1      \\\\\n",
       "\t 1206    & 0       & 44.2055 & 2       & 2       & 1      \\\\\n",
       "\t 1227    & 0       & 59.5890 & 1       & 2       & 2      \\\\\n",
       "\t  268    & 1       & 74.5041 & 2       & 1       & 2      \\\\\n",
       "\t  329    & 1       & 43.1370 & 2       & 1       & 1      \\\\\n",
       "\t  353    & 1       & 63.2192 & 1       & 2       & 2      \\\\\n",
       "\t  365    & 1       & 64.4247 & 2       & 2       & 1      \\\\\n",
       "\t  377    & 0       & 58.3096 & 1       & 2       & 1      \\\\\n",
       "\\end{tabular}\n"
      ],
      "text/markdown": [
       "\n",
       "| futime | fustat | age | resid.ds | rx | ecog.ps |\n",
       "|---|---|---|---|---|---|\n",
       "|   59    | 1       | 72.3315 | 2       | 1       | 1       |\n",
       "|  115    | 1       | 74.4932 | 2       | 1       | 1       |\n",
       "|  156    | 1       | 66.4658 | 2       | 1       | 2       |\n",
       "|  421    | 0       | 53.3644 | 2       | 2       | 1       |\n",
       "|  431    | 1       | 50.3397 | 2       | 1       | 1       |\n",
       "|  448    | 0       | 56.4301 | 1       | 1       | 2       |\n",
       "|  464    | 1       | 56.9370 | 2       | 2       | 2       |\n",
       "|  475    | 1       | 59.8548 | 2       | 2       | 2       |\n",
       "|  477    | 0       | 64.1753 | 2       | 1       | 1       |\n",
       "|  563    | 1       | 55.1781 | 1       | 2       | 2       |\n",
       "|  638    | 1       | 56.7562 | 1       | 1       | 2       |\n",
       "|  744    | 0       | 50.1096 | 1       | 2       | 1       |\n",
       "|  769    | 0       | 59.6301 | 2       | 2       | 2       |\n",
       "|  770    | 0       | 57.0521 | 2       | 2       | 1       |\n",
       "|  803    | 0       | 39.2712 | 1       | 1       | 1       |\n",
       "|  855    | 0       | 43.1233 | 1       | 1       | 2       |\n",
       "| 1040    | 0       | 38.8932 | 2       | 1       | 2       |\n",
       "| 1106    | 0       | 44.6000 | 1       | 1       | 1       |\n",
       "| 1129    | 0       | 53.9068 | 1       | 2       | 1       |\n",
       "| 1206    | 0       | 44.2055 | 2       | 2       | 1       |\n",
       "| 1227    | 0       | 59.5890 | 1       | 2       | 2       |\n",
       "|  268    | 1       | 74.5041 | 2       | 1       | 2       |\n",
       "|  329    | 1       | 43.1370 | 2       | 1       | 1       |\n",
       "|  353    | 1       | 63.2192 | 1       | 2       | 2       |\n",
       "|  365    | 1       | 64.4247 | 2       | 2       | 1       |\n",
       "|  377    | 0       | 58.3096 | 1       | 2       | 1       |\n",
       "\n"
      ],
      "text/plain": [
       "   futime fustat age     resid.ds rx ecog.ps\n",
       "1    59   1      72.3315 2        1  1      \n",
       "2   115   1      74.4932 2        1  1      \n",
       "3   156   1      66.4658 2        1  2      \n",
       "4   421   0      53.3644 2        2  1      \n",
       "5   431   1      50.3397 2        1  1      \n",
       "6   448   0      56.4301 1        1  2      \n",
       "7   464   1      56.9370 2        2  2      \n",
       "8   475   1      59.8548 2        2  2      \n",
       "9   477   0      64.1753 2        1  1      \n",
       "10  563   1      55.1781 1        2  2      \n",
       "11  638   1      56.7562 1        1  2      \n",
       "12  744   0      50.1096 1        2  1      \n",
       "13  769   0      59.6301 2        2  2      \n",
       "14  770   0      57.0521 2        2  1      \n",
       "15  803   0      39.2712 1        1  1      \n",
       "16  855   0      43.1233 1        1  2      \n",
       "17 1040   0      38.8932 2        1  2      \n",
       "18 1106   0      44.6000 1        1  1      \n",
       "19 1129   0      53.9068 1        2  1      \n",
       "20 1206   0      44.2055 2        2  1      \n",
       "21 1227   0      59.5890 1        2  2      \n",
       "22  268   1      74.5041 2        1  2      \n",
       "23  329   1      43.1370 2        1  1      \n",
       "24  353   1      63.2192 1        2  2      \n",
       "25  365   1      64.4247 2        2  1      \n",
       "26  377   0      58.3096 1        2  1      "
      ]
     },
     "metadata": {},
     "output_type": "display_data"
    },
    {
     "name": "stderr",
     "output_type": "stream",
     "text": [
      "The following objects are masked from ovarian (pos = 3):\n",
      "\n",
      "    age, ecog.ps, fustat, futime, resid.ds, rx\n",
      "\n"
     ]
    }
   ],
   "source": [
    "#loading the inbult data set{survival}\n",
    "data(ovarian)\n",
    "ovarian\n",
    "\n",
    "attach(ovarian)"
   ]
  },
  {
   "cell_type": "code",
   "execution_count": 4,
   "metadata": {},
   "outputs": [
    {
     "name": "stdout",
     "output_type": "stream",
     "text": [
      "Observations: 26\n",
      "Variables: 6\n",
      "$ futime   \u001b[3m\u001b[90m<dbl>\u001b[39m\u001b[23m 59, 115, 156, 421, 431, 448, 464, 475, 477, 563, 638, 744,...\n",
      "$ fustat   \u001b[3m\u001b[90m<dbl>\u001b[39m\u001b[23m 1, 1, 1, 0, 1, 0, 1, 1, 0, 1, 1, 0, 0, 0, 0, 0, 0, 0, 0, 0...\n",
      "$ age      \u001b[3m\u001b[90m<dbl>\u001b[39m\u001b[23m 72.3315, 74.4932, 66.4658, 53.3644, 50.3397, 56.4301, 56.9...\n",
      "$ resid.ds \u001b[3m\u001b[90m<dbl>\u001b[39m\u001b[23m 2, 2, 2, 2, 2, 1, 2, 2, 2, 1, 1, 1, 2, 2, 1, 1, 2, 1, 1, 2...\n",
      "$ rx       \u001b[3m\u001b[90m<dbl>\u001b[39m\u001b[23m 1, 1, 1, 2, 1, 1, 2, 2, 1, 2, 1, 2, 2, 2, 1, 1, 1, 1, 2, 2...\n",
      "$ ecog.ps  \u001b[3m\u001b[90m<dbl>\u001b[39m\u001b[23m 1, 1, 2, 1, 1, 2, 2, 2, 1, 2, 2, 1, 2, 1, 1, 2, 2, 1, 1, 1...\n"
     ]
    }
   ],
   "source": [
    "#structure of the data\n",
    "glimpse(ovarian)"
   ]
  },
  {
   "cell_type": "markdown",
   "metadata": {},
   "source": [
    "variables description\n",
    "\n",
    "**futime**-column holding survival times(Response Variable)\n",
    "\n",
    "**fustat**-tells if an individual patient survival's time is censored\n",
    "\n",
    "26 patients in this study received either one of two therapy regimens (**rx**) and the attending physician assessed the regression of tumors (**resid.ds**) and patients’ performance (according to the standardized ECOG criteria; **ecog.ps**) at some point."
   ]
  },
  {
   "cell_type": "code",
   "execution_count": 5,
   "metadata": {},
   "outputs": [
    {
     "data": {
      "image/png": "[encoded data removed]",
      "text/plain": [
       "Plot with title \"Histogram of ovarian$age\""
      ]
     },
     "metadata": {},
     "output_type": "display_data"
    }
   ],
   "source": [
    "#adding age as a predictive variabe;has to be converted from contiuous to binary\n",
    "#dichotomus age and change data labels\n",
    "ovarian$rx <- factor(ovarian$rx, \n",
    "                     levels = c(\"1\", \"2\"), \n",
    "                     labels = c(\"A\", \"B\"))\n",
    "ovarian$resid.ds <- factor(ovarian$resid.ds, \n",
    "                           levels = c(\"1\", \"2\"), \n",
    "                           labels = c(\"no\", \"yes\"))\n",
    "ovarian$ecog.ps <- factor(ovarian$ecog.ps, \n",
    "                          levels = c(\"1\", \"2\"), \n",
    "                          labels = c(\"good\", \"bad\"))\n",
    "# distribution of data\n",
    "hist(ovarian$age)"
   ]
  },
  {
   "cell_type": "markdown",
   "metadata": {},
   "source": [
    "The plot suggests that a cut off of 50 years can be used.\n",
    "\n",
    "*mutate()*-add aditional group group_by\n",
    "\n",
    "futime and fustat coulmuns are then interpreted by survival function **survfit**\n",
    "\n",
    "A **+** behind surviavl time indicates censored data points"
   ]
  },
  {
   "cell_type": "code",
   "execution_count": 6,
   "metadata": {},
   "outputs": [],
   "source": [
    "ovarian <- ovarian %>% mutate(age_group = ifelse(age >=50, \"old\", \"young\"))\n",
    "ovarian$age_group <- factor(ovarian$age_group)"
   ]
  },
  {
   "cell_type": "code",
   "execution_count": 7,
   "metadata": {},
   "outputs": [
    {
     "data": {
      "text/plain": [
       " [1]   59   115   156   421+  431   448+  464   475   477+  563   638   744+\n",
       "[13]  769+  770+  803+  855+ 1040+ 1106+ 1129+ 1206+ 1227+  268   329   353 \n",
       "[25]  365   377+"
      ]
     },
     "metadata": {},
     "output_type": "display_data"
    }
   ],
   "source": [
    "#fit survival data using Kaplan_Meier method\n",
    "surv_object <- Surv(time = futime, event = fustat)\n",
    "surv_object"
   ]
  },
  {
   "cell_type": "markdown",
   "metadata": {},
   "source": [
    "Kaplan-Meier curves;\n",
    "pass the surv_object to **survfit**.The curve can be divided deepneding onthe treatment rx that the patients were assigned to."
   ]
  },
  {
   "cell_type": "code",
   "execution_count": 8,
   "metadata": {},
   "outputs": [
    {
     "data": {
      "text/plain": [
       "Call: survfit(formula = surv_object ~ rx, data = ovarian)\n",
       "\n",
       "                rx=A \n",
       " time n.risk n.event survival std.err lower 95% CI upper 95% CI\n",
       "   59     13       1    0.923  0.0739        0.789        1.000\n",
       "  115     12       1    0.846  0.1001        0.671        1.000\n",
       "  156     11       1    0.769  0.1169        0.571        1.000\n",
       "  268     10       1    0.692  0.1280        0.482        0.995\n",
       "  329      9       1    0.615  0.1349        0.400        0.946\n",
       "  431      8       1    0.538  0.1383        0.326        0.891\n",
       "  638      5       1    0.431  0.1467        0.221        0.840\n",
       "\n",
       "                rx=B \n",
       " time n.risk n.event survival std.err lower 95% CI upper 95% CI\n",
       "  353     13       1    0.923  0.0739        0.789        1.000\n",
       "  365     12       1    0.846  0.1001        0.671        1.000\n",
       "  464      9       1    0.752  0.1256        0.542        1.000\n",
       "  475      8       1    0.658  0.1407        0.433        1.000\n",
       "  563      7       1    0.564  0.1488        0.336        0.946\n"
      ]
     },
     "metadata": {},
     "output_type": "display_data"
    }
   ],
   "source": [
    "fit1 <- survfit(surv_object ~ rx, data = ovarian)\n",
    "summary(fit1)"
   ]
  },
  {
   "cell_type": "markdown",
   "metadata": {},
   "source": [
    "the corresponding surival curve can be examined by passing fit1 to **ggsurvplot**\n",
    "\n",
    "**pval = TRUE** plots the p value of log rank test as well."
   ]
  },
  {
   "cell_type": "code",
   "execution_count": 9,
   "metadata": {},
   "outputs": [
    {
     "data": {
      "image/png": "[encoded data removed]",
      "text/plain": [
       "plot without title"
      ]
     },
     "metadata": {},
     "output_type": "display_data"
    }
   ],
   "source": [
    "ggsurvplot(fit1, data = ovarian, pval = TRUE)"
   ]
  },
  {
   "cell_type": "markdown",
   "metadata": {},
   "source": [
    "**Plot description**\n",
    "\n",
    "Vartical lines indicate censored data and their corresponding x values time at whiich cesnoring time occurs.\n",
    "\n",
    "The Log-rank p value=0.3,none of the treatments examined were significantly superior although patients receiving treatment B are doing better in the first month of follow-up"
   ]
  },
  {
   "cell_type": "code",
   "execution_count": 10,
   "metadata": {},
   "outputs": [
    {
     "data": {
      "text/plain": [
       "Call: survfit(formula = surv_object ~ resid.ds, data = ovarian)\n",
       "\n",
       "                resid.ds=no \n",
       " time n.risk n.event survival std.err lower 95% CI upper 95% CI\n",
       "  353     11       1    0.909  0.0867        0.754            1\n",
       "  563      8       1    0.795  0.1306        0.577            1\n",
       "  638      7       1    0.682  0.1536        0.438            1\n",
       "\n",
       "                resid.ds=yes \n",
       " time n.risk n.event survival std.err lower 95% CI upper 95% CI\n",
       "   59     15       1    0.933  0.0644        0.815        1.000\n",
       "  115     14       1    0.867  0.0878        0.711        1.000\n",
       "  156     13       1    0.800  0.1033        0.621        1.000\n",
       "  268     12       1    0.733  0.1142        0.540        0.995\n",
       "  329     11       1    0.667  0.1217        0.466        0.953\n",
       "  365     10       1    0.600  0.1265        0.397        0.907\n",
       "  431      8       1    0.525  0.1310        0.322        0.856\n",
       "  464      7       1    0.450  0.1321        0.253        0.800\n",
       "  475      6       1    0.375  0.1296        0.190        0.738\n"
      ]
     },
     "metadata": {},
     "output_type": "display_data"
    }
   ],
   "source": [
    "# Examine prdictive value of residual disease status\n",
    "fit2 <- survfit(surv_object ~ resid.ds, data = ovarian)\n",
    "summary(fit2)"
   ]
  },
  {
   "cell_type": "code",
   "execution_count": 11,
   "metadata": {},
   "outputs": [
    {
     "data": {
      "image/png": "[encoded data removed]",
      "text/plain": [
       "plot without title"
      ]
     },
     "metadata": {},
     "output_type": "display_data"
    }
   ],
   "source": [
    "ggsurvplot(fit2, data = ovarian, pval = TRUE)"
   ]
  },
  {
   "cell_type": "markdown",
   "metadata": {},
   "source": [
    "**interpretation of the results**\n",
    "The curves diverge early and the log-rank test is almost significant(p value = 0.057)"
   ]
  },
  {
   "cell_type": "markdown",
   "metadata": {},
   "source": [
    "Cox proportional hazard models allow one to include covariates(I.Vs).\n",
    "\n",
    "These models can be built suing the funtion(**coxph**) and vizualised using the **ggforest** function(plot is called forest plot)\n",
    "\n",
    "It shows hazard ratios (HR) which are derived from the model for all covariates that we included in the formula in coxph\n",
    "\n",
    "HR > 1 indicates an increased risk of death (according to the definition of h(t)) if a specific condition is met by a patient.\n",
    "\n",
    "HR < 1, on the other hand, indicates a decreased risk. "
   ]
  },
  {
   "cell_type": "code",
   "execution_count": 12,
   "metadata": {},
   "outputs": [
    {
     "name": "stderr",
     "output_type": "stream",
     "text": [
      "Warning message:\n",
      "\"Removed 4 rows containing missing values (geom_errorbar).\""
     ]
    },
    {
     "data": {
      "image/png": "[encoded data removed]",
      "text/plain": [
       "plot without title"
      ]
     },
     "metadata": {},
     "output_type": "display_data"
    }
   ],
   "source": [
    "#fit cox proportional hazards model\n",
    "fit.cox <- coxph(surv_object ~ rx + resid.ds + age_group + ecog.ps, data = ovarian)\n",
    "\n",
    "ggforest(fit.cox, data = ovarian)"
   ]
  },
  {
   "cell_type": "markdown",
   "metadata": {},
   "source": [
    "Every HR- respresents a relative risk of death that compares one instance of a binary feature to the other instance.\n",
    "\n",
    "E.g. HR = 0.25; treatment groups tells you that patients who received treatment B have a reduced risk of dying compared to patients who received treatment A (which served as a reference to calculate the hazard ratio).the forest plot, the respective 95% confidence interval is 0.071 - 0.89 and this result is significant"
   ]
  }
 ],
 "metadata": {
  "kernelspec": {
   "display_name": "R",
   "language": "R",
   "name": "ir"
  },
  "language_info": {
   "codemirror_mode": "r",
   "file_extension": ".r",
   "mimetype": "text/x-r-source",
   "name": "R",
   "pygments_lexer": "r",
   "version": "3.5.3"
  }
 },
 "nbformat": 4,
 "nbformat_minor": 2
}
